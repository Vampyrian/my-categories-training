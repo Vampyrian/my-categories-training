{
 "cells": [
  {
   "metadata": {},
   "cell_type": "markdown",
   "source": "# Settings",
   "id": "d7c96e58d7bbed3b"
  },
  {
   "metadata": {},
   "cell_type": "code",
   "source": [
    "MIN_COUNT = 5\n",
    "LIMIT_COUNT = 500\n",
    "MAX_IMAGE_WIDTH = 224\n",
    "OUTPUT_FOLDER = \"../image/downloaded_images\""
   ],
   "id": "198b501f6cffa4e1",
   "outputs": [],
   "execution_count": null
  },
  {
   "metadata": {},
   "cell_type": "code",
   "source": [
    "# DATASET_NAME = 'Vampyrian/telefonai'\n",
    "# PARENT_CATEGORY_ID = 1\n",
    "#-------------------------------------------------------------------\n",
    "# DATASET_NAME = 'Vampyrian/kompiuterine-technika'\n",
    "# PARENT_CATEGORY_ID = 16\n",
    "#-------------------------------------------------------------------\n",
    "# DATASET_NAME = 'Vampyrian/vaizdo-ir-garso-technika'\n",
    "# PARENT_CATEGORY_ID = 107\n",
    "#-------------------------------------------------------------------\n",
    "# DATASET_NAME = 'Vampyrian/foto-ir-video'\n",
    "# PARENT_CATEGORY_ID = 166\n",
    "#-------------------------------------------------------------------\n",
    "# DATASET_NAME = 'Vampyrian/sodui-ir-namams'\n",
    "# PARENT_CATEGORY_ID = 181\n",
    "#-------------------------------------------------------------------\n",
    "# DATASET_NAME = 'Vampyrian/automobiliu-prekes'\n",
    "# PARENT_CATEGORY_ID = 814\n",
    "#-------------------------------------------------------------------\n",
    "# DATASET_NAME = 'Vampyrian/buitine-technika-ir-elektronika'\n",
    "# PARENT_CATEGORY_ID = 1240\n",
    "#-------------------------------------------------------------------\n",
    "# DATASET_NAME = 'Vampyrian/grozis-ir-sveikata'\n",
    "# PARENT_CATEGORY_ID = 1327\n",
    "#-------------------------------------------------------------------\n",
    "# DATASET_NAME = 'Vampyrian/vaiku-prekes'\n",
    "# PARENT_CATEGORY_ID = 1625\n",
    "#-------------------------------------------------------------------\n",
    "# DATASET_NAME = 'Vampyrian/sportas-laisvalaikis'\n",
    "# PARENT_CATEGORY_ID = 1719\n",
    "#-------------------------------------------------------------------\n",
    "# DATASET_NAME = 'Vampyrian/biuro-ir-kanceliarines-prekes'\n",
    "# PARENT_CATEGORY_ID = 2470\n",
    "#-------------------------------------------------------------------\n",
    "# DATASET_NAME = 'Vampyrian/apranga-ir-avalyne'\n",
    "# PARENT_CATEGORY_ID = 2568\n",
    "#-------------------------------------------------------------------\n",
    "# DATASET_NAME = 'Vampyrian/baldai-ir-namu-intejeras'\n",
    "# PARENT_CATEGORY_ID = 2781\n",
    "#-------------------------------------------------------------------\n",
    "# DATASET_NAME = 'Vampyrian/gyvunu-prekes'\n",
    "# PARENT_CATEGORY_ID = 2936\n",
    "#-------------------------------------------------------------------\n",
    "# DATASET_NAME = 'Vampyrian/maistas-ir-gerimai'\n",
    "# PARENT_CATEGORY_ID = 2995\n",
    "#-------------------------------------------------------------------\n",
    "# DATASET_NAME = 'Vampyrian/statybines-prekes'\n",
    "# PARENT_CATEGORY_ID = 3494\n",
    "#-------------------------------------------------------------------\n",
    "DATASET_NAME = 'Vampyrian/erotines-prekes'\n",
    "PARENT_CATEGORY_ID = 3602\n",
    "#-------------------------------------------------------------------\n"
   ],
   "id": "c04f63f4001b6ccb",
   "outputs": [],
   "execution_count": null
  },
  {
   "metadata": {},
   "cell_type": "markdown",
   "source": "# Update parquet from DB",
   "id": "5fb94a0cd0d5539d"
  },
  {
   "metadata": {},
   "cell_type": "code",
   "source": [
    "from sqlalchemy import create_engine\n",
    "import dotenv\n",
    "import os\n",
    "import pandas as pd"
   ],
   "id": "25292b1af6818f73",
   "outputs": [],
   "execution_count": null
  },
  {
   "metadata": {},
   "cell_type": "code",
   "source": "dotenv.load_dotenv(dotenv_path=\"../.env\", override=True)",
   "id": "5060e6944f00fbdf",
   "outputs": [],
   "execution_count": null
  },
  {
   "metadata": {},
   "cell_type": "code",
   "source": [
    "engine = create_engine(f\"mysql+pymysql://{os.getenv('MYSQL_USER')}:{os.getenv('MYSQL_PASSWORD')}@{os.getenv('MYSQL_HOST')}:{os.getenv('MYSQL_PORT')}/{os.getenv('MYSQL_DATABASE')}\")\n",
    "\n",
    "# Test connection\n",
    "with engine.connect() as connection:\n",
    "    print(\"Database connection successful!\")"
   ],
   "id": "64bcedca4ac6c933",
   "outputs": [],
   "execution_count": null
  },
  {
   "metadata": {},
   "cell_type": "code",
   "source": [
    "query = f\"\"\"\n",
    "SELECT category_training_data.image_path, categories.id AS category_id, categories.name AS category_name\n",
    "FROM category_training_data\n",
    "JOIN listings ON category_training_data.listing_id = listings.id\n",
    "JOIN categories ON category_training_data.category_id = categories.id\n",
    "WHERE category_training_data.is_confirmed_category = 1\n",
    "AND category_training_data.image_path IS NOT NULL\n",
    "AND category_training_data.category_id IN (\n",
    "    WITH RECURSIVE category_tree AS (\n",
    "    SELECT id, name, category_id\n",
    "    FROM categories\n",
    "    WHERE id = {PARENT_CATEGORY_ID} -- The ID of the parent category\n",
    "    UNION ALL\n",
    "    SELECT c.id, c.name, c.category_id\n",
    "    FROM categories c\n",
    "    INNER JOIN category_tree ct ON c.category_id = ct.id)\n",
    "    SELECT id FROM category_tree);\n",
    "\"\"\""
   ],
   "id": "296756fc97e872f4",
   "outputs": [],
   "execution_count": null
  },
  {
   "metadata": {},
   "cell_type": "code",
   "source": "data = pd.read_sql(query, engine)",
   "id": "338acc953260c732",
   "outputs": [],
   "execution_count": null
  },
  {
   "metadata": {},
   "cell_type": "code",
   "source": "data",
   "id": "1361d18e7dc69417",
   "outputs": [],
   "execution_count": null
  },
  {
   "metadata": {},
   "cell_type": "code",
   "source": [
    "image_folder = \"../image\"\n",
    "if not os.path.exists(image_folder):\n",
    "    os.makedirs(image_folder)\n",
    "\n",
    "path = os.path.join(image_folder, \"images_url.parquet\")"
   ],
   "id": "5781e5b7aab9243e",
   "outputs": [],
   "execution_count": null
  },
  {
   "metadata": {},
   "cell_type": "code",
   "source": "data.to_parquet(path, index=False)",
   "id": "3058dde4fb080a22",
   "outputs": [],
   "execution_count": null
  },
  {
   "metadata": {},
   "cell_type": "markdown",
   "source": "# Preprocess data",
   "id": "1f89916a8acabf2"
  },
  {
   "metadata": {},
   "cell_type": "code",
   "source": "data['category'] = data['category_id'].astype(str) + '_' + data['category_name']",
   "id": "4ff7e256e3a522d1",
   "outputs": [],
   "execution_count": null
  },
  {
   "metadata": {},
   "cell_type": "code",
   "source": "data.drop(columns=['category_id', 'category_name'], inplace=True)",
   "id": "834575db82f9ecb1",
   "outputs": [],
   "execution_count": null
  },
  {
   "metadata": {},
   "cell_type": "markdown",
   "source": "# Filter dataframe if category have less than particular count of images",
   "id": "66ec0b6aefbc1f49"
  },
  {
   "metadata": {},
   "cell_type": "code",
   "source": "data",
   "id": "3689b3ba6a245b8d",
   "outputs": [],
   "execution_count": null
  },
  {
   "metadata": {},
   "cell_type": "code",
   "source": [
    "# Get value counts for the desired column\n",
    "value_counts = data['category'].value_counts()\n",
    "\n",
    "# Find indices (categories) where the count is less than MIN_COUNT\n",
    "categories_to_keep = value_counts[value_counts > MIN_COUNT].index\n",
    "\n",
    "# Filter the DataFrame to keep only rows with those categories\n",
    "filtered_data = data[data['category'].isin(categories_to_keep)]"
   ],
   "id": "2b3730cc3a40b8c3",
   "outputs": [],
   "execution_count": null
  },
  {
   "metadata": {},
   "cell_type": "code",
   "source": "filtered_data",
   "id": "d4c6cbdc67e26adf",
   "outputs": [],
   "execution_count": null
  },
  {
   "metadata": {},
   "cell_type": "markdown",
   "source": "# Limit image per category",
   "id": "13b088161b9807ce"
  },
  {
   "metadata": {},
   "cell_type": "code",
   "source": "limited_data = filtered_data.groupby('category').head(LIMIT_COUNT)",
   "id": "93a36bc78c1d5e8c",
   "outputs": [],
   "execution_count": null
  },
  {
   "metadata": {},
   "cell_type": "code",
   "source": "limited_data",
   "id": "755411018665f044",
   "outputs": [],
   "execution_count": null
  },
  {
   "metadata": {},
   "cell_type": "code",
   "source": "sorted_limited_data = limited_data.sort_values(by='category')",
   "id": "e7c021e09c1f9f4d",
   "outputs": [],
   "execution_count": null
  },
  {
   "metadata": {},
   "cell_type": "code",
   "source": "sorted_limited_data",
   "id": "2a29d4eba5c7b9f2",
   "outputs": [],
   "execution_count": null
  },
  {
   "metadata": {},
   "cell_type": "markdown",
   "source": "# Upload images from parquet to disk",
   "id": "d122b41d6a1be1b8"
  },
  {
   "metadata": {},
   "cell_type": "code",
   "source": [
    "import requests\n",
    "from tqdm import tqdm  # For visualizing progress\n",
    "from PIL import Image, ImageFile\n",
    "from PIL.Image import DecompressionBombError\n",
    "from io import BytesIO\n",
    "\n",
    "ImageFile.LOAD_TRUNCATED_IMAGES = True"
   ],
   "id": "d5db61e97c3631f0",
   "outputs": [],
   "execution_count": null
  },
  {
   "metadata": {},
   "cell_type": "code",
   "source": "host_url = os.getenv(\"S3_URL\")",
   "id": "bac1c2bb29a2357a",
   "outputs": [],
   "execution_count": null
  },
  {
   "metadata": {},
   "cell_type": "code",
   "source": [
    "TEMP = 0\n",
    "print(TEMP)\n",
    "\n",
    "if not os.path.exists(OUTPUT_FOLDER):\n",
    "    os.makedirs(OUTPUT_FOLDER)\n",
    "\n",
    "for index, row in tqdm(limited_data.iterrows(), total=sorted_limited_data.shape[0]):\n",
    "    image_url = host_url + row['image_path']\n",
    "    category = row['category'] # Use category for organization\n",
    "\n",
    "    category_folder = os.path.join(OUTPUT_FOLDER, category)\n",
    "\n",
    "    if os.path.exists(category_folder) and TEMP == 0: # Check progress\n",
    "        continue\n",
    "\n",
    "    TEMP = 1\n",
    "\n",
    "    if not os.path.exists(category_folder):\n",
    "        os.makedirs(category_folder)\n",
    "\n",
    "    image_filename = f\"{index}.jpg\"  # Save as index or any unique naming scheme\n",
    "    image_path = os.path.join(category_folder, image_filename)\n",
    "\n",
    "    try:\n",
    "        response = requests.get(image_url, timeout=10)\n",
    "        if response.status_code == 200:\n",
    "            image = Image.open(BytesIO(response.content))\n",
    "            original_width, original_height = image.size\n",
    "\n",
    "            if original_width > MAX_IMAGE_WIDTH:\n",
    "                aspect_ratio = original_height / original_width\n",
    "                new_height = int(MAX_IMAGE_WIDTH * aspect_ratio)\n",
    "\n",
    "                resized_image = image.resize((MAX_IMAGE_WIDTH, new_height))\n",
    "            else:\n",
    "                resized_image = image\n",
    "\n",
    "            if resized_image.mode not in (\"RGB\", \"L\"):\n",
    "                resized_image = resized_image.convert('RGB')\n",
    "\n",
    "            if \"exif\" in resized_image.info:\n",
    "                resized_image.info.pop(\"exif\")\n",
    "\n",
    "            resized_image.save(image_path, format=\"JPEG\")\n",
    "        else:\n",
    "            print(f\"Failed to download {image_url}, from category {category}: Status code {response.status_code}\")\n",
    "    except requests.RequestException as e:\n",
    "        print(f\"Error downloading {image_url} from category {category}: {e}\")\n",
    "    except DecompressionBombError as e:\n",
    "        print(f\"Decompress bomb error while processing the image {image_url} from category {category}: {e}\")\n",
    "    except OSError as e:\n",
    "        print(f\"Error while processing the image {image_url} from category {category}: {e}\")"
   ],
   "id": "72cbf1f52300ae92",
   "outputs": [],
   "execution_count": null
  },
  {
   "metadata": {},
   "cell_type": "markdown",
   "source": "",
   "id": "6414fd692923c4b2"
  },
  {
   "metadata": {},
   "cell_type": "markdown",
   "source": "# Create dataset on Hugging face",
   "id": "d3910b5b6dfc1993"
  },
  {
   "metadata": {},
   "cell_type": "code",
   "source": "from datasets import load_dataset",
   "id": "1fc90cbf28f10bb7",
   "outputs": [],
   "execution_count": null
  },
  {
   "metadata": {},
   "cell_type": "code",
   "source": "dataset = load_dataset(\"imagefolder\", data_dir=OUTPUT_FOLDER)",
   "id": "da79a6422eb75878",
   "outputs": [],
   "execution_count": null
  },
  {
   "metadata": {},
   "cell_type": "code",
   "source": "dataset",
   "id": "dc2a81dbcd8e02d9",
   "outputs": [],
   "execution_count": null
  },
  {
   "metadata": {},
   "cell_type": "code",
   "source": "dataset.push_to_hub(DATASET_NAME)",
   "id": "66267f533b644fd7",
   "outputs": [],
   "execution_count": null
  }
 ],
 "metadata": {
  "kernelspec": {
   "display_name": "Python 3",
   "language": "python",
   "name": "python3"
  },
  "language_info": {
   "codemirror_mode": {
    "name": "ipython",
    "version": 2
   },
   "file_extension": ".py",
   "mimetype": "text/x-python",
   "name": "python",
   "nbconvert_exporter": "python",
   "pygments_lexer": "ipython2",
   "version": "2.7.6"
  }
 },
 "nbformat": 4,
 "nbformat_minor": 5
}
