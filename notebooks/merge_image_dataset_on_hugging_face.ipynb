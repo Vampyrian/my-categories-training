{
 "cells": [
  {
   "metadata": {},
   "cell_type": "markdown",
   "source": "# Settings",
   "id": "88f5fd546d3df899"
  },
  {
   "metadata": {},
   "cell_type": "code",
   "source": [
    "OUTPUT_MODEL_NAME = 'Vampyrian/all-images-2025-03-28'\n",
    "COMBINE_DATASETS = [\n",
    "    'Vampyrian/telefonai',\n",
    "    'Vampyrian/kompiuterine-technika',\n",
    "    'Vampyrian/vaizdo-ir-garso-technika',\n",
    "    'Vampyrian/foto-ir-video',\n",
    "    'Vampyrian/sodui-ir-namams',\n",
    "    'Vampyrian/automobiliu-prekes',\n",
    "    'Vampyrian/buitine-technika-ir-elektronika',\n",
    "    'Vampyrian/grozis-ir-sveikata',\n",
    "    'Vampyrian/vaiku-prekes',\n",
    "    'Vampyrian/sportas-laisvalaikis',\n",
    "    'Vampyrian/biuro-ir-kanceliarines-prekes',\n",
    "    'Vampyrian/apranga-ir-avalyne',\n",
    "    'Vampyrian/baldai-ir-namu-intejeras',\n",
    "    'Vampyrian/gyvunu-prekes',\n",
    "    'Vampyrian/maistas-ir-gerimai',\n",
    "    'Vampyrian/statybines-prekes',\n",
    "    'Vampyrian/erotines-prekes'\n",
    "]"
   ],
   "id": "8dbeee72e162ee18",
   "outputs": [],
   "execution_count": null
  },
  {
   "metadata": {},
   "cell_type": "markdown",
   "source": "# Login to huggin face",
   "id": "3b7f96cb781848c9"
  },
  {
   "metadata": {},
   "cell_type": "code",
   "source": [
    "from dotenv import load_dotenv\n",
    "import os\n",
    "\n",
    "load_dotenv()\n",
    "\n",
    "hf_token = os.getenv('HF_TOKEN')"
   ],
   "id": "3ba5d93a6acc46ff",
   "outputs": [],
   "execution_count": null
  },
  {
   "metadata": {},
   "cell_type": "code",
   "source": [
    "from huggingface_hub import login\n",
    "login(token=hf_token)"
   ],
   "id": "63a4b7a95c2f5424",
   "outputs": [],
   "execution_count": null
  },
  {
   "metadata": {},
   "cell_type": "markdown",
   "source": "# Loading concatenated dataset",
   "id": "257b73237b35ae59"
  },
  {
   "metadata": {},
   "cell_type": "code",
   "source": [
    "from datasets import load_dataset, concatenate_datasets, Dataset, DatasetDict, Features, ClassLabel, Array3D\n",
    "import pandas as pd"
   ],
   "id": "222cac6215d6b3b2",
   "outputs": [],
   "execution_count": null
  },
  {
   "metadata": {},
   "cell_type": "code",
   "source": [
    "datasets = []\n",
    "for dataset_name in COMBINE_DATASETS:\n",
    "    print(dataset_name)\n",
    "    datasets.append(load_dataset(dataset_name))"
   ],
   "id": "f6ee51b6c3464f97",
   "outputs": [],
   "execution_count": null
  },
  {
   "metadata": {},
   "cell_type": "code",
   "source": "datasets",
   "id": "11a0aa190d355a1d",
   "outputs": [],
   "execution_count": null
  },
  {
   "metadata": {},
   "cell_type": "code",
   "source": [
    "images = []\n",
    "labels = []\n",
    "\n",
    "for dataset in datasets:\n",
    "    for index, data in enumerate(dataset['train']):\n",
    "        temp = dataset['train'][index]['label']\n",
    "        name = dataset['train'].features['label'].names[temp]\n",
    "        labels.append(name)\n",
    "        image = dataset['train'][index]['image']\n",
    "        images.append(image)"
   ],
   "id": "790bf3f19baa4681",
   "outputs": [],
   "execution_count": null
  },
  {
   "metadata": {},
   "cell_type": "code",
   "source": "del datasets",
   "id": "97a7f395315d5c53",
   "outputs": [],
   "execution_count": null
  },
  {
   "metadata": {},
   "cell_type": "code",
   "source": "len(labels)",
   "id": "5aef9b405e95c1cf",
   "outputs": [],
   "execution_count": null
  },
  {
   "metadata": {},
   "cell_type": "code",
   "source": "images[14000]",
   "id": "1ffe2ff7a9ac24f",
   "outputs": [],
   "execution_count": null
  },
  {
   "metadata": {},
   "cell_type": "code",
   "source": "labels[14000]",
   "id": "2e0b0cd48114fa82",
   "outputs": [],
   "execution_count": null
  },
  {
   "metadata": {},
   "cell_type": "markdown",
   "source": "# Create dataset from two arrays",
   "id": "d29e75e0ca070fb6"
  },
  {
   "metadata": {},
   "cell_type": "code",
   "source": [
    "train_df = pd.DataFrame({\n",
    "    \"image\" : images,\n",
    "    \"label\" : labels\n",
    "})"
   ],
   "id": "f23e03683b4f7a32",
   "outputs": [],
   "execution_count": null
  },
  {
   "metadata": {},
   "cell_type": "code",
   "source": "train_df",
   "id": "91b6f9669bfcbeed",
   "outputs": [],
   "execution_count": null
  },
  {
   "metadata": {},
   "cell_type": "code",
   "source": "train_dataset = Dataset.from_dict(train_df)",
   "id": "ecb46a465e5a59f5",
   "outputs": [],
   "execution_count": null
  },
  {
   "metadata": {},
   "cell_type": "code",
   "source": "train_dataset.features",
   "id": "a37404dde638b3d6",
   "outputs": [],
   "execution_count": null
  },
  {
   "metadata": {},
   "cell_type": "code",
   "source": "dataset = train_dataset.class_encode_column(\"label\")",
   "id": "3c692b4107bff151",
   "outputs": [],
   "execution_count": null
  },
  {
   "metadata": {},
   "cell_type": "code",
   "source": "dataset",
   "id": "70ac1b7673e71e50",
   "outputs": [],
   "execution_count": null
  },
  {
   "metadata": {},
   "cell_type": "code",
   "source": [
    "dataset = DatasetDict({\n",
    "    \"train\": dataset,\n",
    "})"
   ],
   "id": "c70e3c52b2549ffc",
   "outputs": [],
   "execution_count": null
  },
  {
   "metadata": {},
   "cell_type": "code",
   "source": "dataset",
   "id": "e1dc2c60b707c8fe",
   "outputs": [],
   "execution_count": null
  },
  {
   "metadata": {},
   "cell_type": "code",
   "source": "dataset.push_to_hub(OUTPUT_MODEL_NAME)",
   "id": "6bb5e91d78909014",
   "outputs": [],
   "execution_count": null
  },
  {
   "metadata": {},
   "cell_type": "code",
   "source": "dataset['train'].features",
   "id": "a032155e8b05d862",
   "outputs": [],
   "execution_count": null
  },
  {
   "metadata": {},
   "cell_type": "markdown",
   "source": "# Test dataset",
   "id": "f88aead461a24ee8"
  },
  {
   "metadata": {},
   "cell_type": "code",
   "source": "index = 35012",
   "id": "a4a0489c7705e8ef",
   "outputs": [],
   "execution_count": null
  },
  {
   "metadata": {},
   "cell_type": "code",
   "source": "dataset['train'][index]",
   "id": "d5e7829138ed7928",
   "outputs": [],
   "execution_count": null
  },
  {
   "metadata": {},
   "cell_type": "code",
   "source": "dataset['train'][index]['image']",
   "id": "e10847cf43582af7",
   "outputs": [],
   "execution_count": null
  },
  {
   "metadata": {},
   "cell_type": "code",
   "source": [
    "label_name = dataset['train'].features['label'].int2str(dataset['train'][index]['label'])\n",
    "label_name"
   ],
   "id": "c10153f4ae04c675",
   "outputs": [],
   "execution_count": null
  }
 ],
 "metadata": {
  "kernelspec": {
   "display_name": "Python 3",
   "language": "python",
   "name": "python3"
  },
  "language_info": {
   "codemirror_mode": {
    "name": "ipython",
    "version": 2
   },
   "file_extension": ".py",
   "mimetype": "text/x-python",
   "name": "python",
   "nbconvert_exporter": "python",
   "pygments_lexer": "ipython2",
   "version": "2.7.6"
  }
 },
 "nbformat": 4,
 "nbformat_minor": 5
}
