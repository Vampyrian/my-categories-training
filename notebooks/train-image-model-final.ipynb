{
 "cells": [
  {
   "metadata": {},
   "cell_type": "markdown",
   "source": "# Settings",
   "id": "88f5fd546d3df899"
  },
  {
   "metadata": {},
   "cell_type": "code",
   "source": [
    "DATASET_NAME = \"Vampyrian/all-images\"\n",
    "OUTPUT_MODEL_NAME = \"Vampyrian/all-images-model\""
   ],
   "id": "1b38cdd2f8c11db0",
   "outputs": [],
   "execution_count": null
  },
  {
   "metadata": {},
   "cell_type": "code",
   "source": [
    "CHECKPOINT = 'google/vit-base-patch16-224-in21k'\n",
    "# CHECKPOINT = 'google/vit-large-patch32-224-in21k'"
   ],
   "id": "c095b2b959511a37",
   "outputs": [],
   "execution_count": null
  },
  {
   "metadata": {},
   "cell_type": "markdown",
   "source": "# Login to huggin face",
   "id": "3b7f96cb781848c9"
  },
  {
   "metadata": {},
   "cell_type": "code",
   "source": [
    "from dotenv import load_dotenv\n",
    "import os\n",
    "\n",
    "load_dotenv()\n",
    "\n",
    "hf_token = os.getenv('HF_TOKEN')"
   ],
   "id": "3ba5d93a6acc46ff",
   "outputs": [],
   "execution_count": null
  },
  {
   "metadata": {},
   "cell_type": "code",
   "source": [
    "from huggingface_hub import login\n",
    "login(token=hf_token)"
   ],
   "id": "63a4b7a95c2f5424",
   "outputs": [],
   "execution_count": null
  },
  {
   "metadata": {},
   "cell_type": "markdown",
   "source": "# Loading dataset",
   "id": "87695b2dbc013a3b"
  },
  {
   "metadata": {},
   "cell_type": "code",
   "source": [
    "from datasets import load_dataset\n",
    "dataset = load_dataset(DATASET_NAME)"
   ],
   "id": "79eb5b9f9bca88a6",
   "outputs": [],
   "execution_count": null
  },
  {
   "metadata": {},
   "cell_type": "code",
   "source": "dataset",
   "id": "726d747ba0a0aba2",
   "outputs": [],
   "execution_count": null
  },
  {
   "metadata": {},
   "cell_type": "markdown",
   "source": "# Check if all image is correct",
   "id": "c4c43406c1514f29"
  },
  {
   "metadata": {},
   "cell_type": "code",
   "source": "from PIL import Image, ImageFile, UnidentifiedImageError",
   "id": "e4aa25b09bbe46d",
   "outputs": [],
   "execution_count": null
  },
  {
   "metadata": {},
   "cell_type": "code",
   "source": [
    "ImageFile.LOAD_TRUNCATED_IMAGES = True\n",
    "\n",
    "def is_valid_image(example):\n",
    "    try:\n",
    "        # Check if the input is already an image object\n",
    "        if isinstance(example[\"image\"], Image.Image):\n",
    "            img = example[\"image\"]  # It's already an image object\n",
    "        else:\n",
    "            # Otherwise, open the image from the path\n",
    "            with Image.open(example[\"image\"]) as img:\n",
    "                img.verify()  # Verify it is a valid image\n",
    "\n",
    "        return True  # If all goes well, return True (valid image)\n",
    "    except Exception as e:\n",
    "        # Catch exceptions such as invalid image formats\n",
    "        return False"
   ],
   "id": "70c2bfa07d7a264e",
   "outputs": [],
   "execution_count": null
  },
  {
   "metadata": {},
   "cell_type": "code",
   "source": "len(dataset[\"train\"])",
   "id": "b0df0f561ba3f184",
   "outputs": [],
   "execution_count": null
  },
  {
   "metadata": {},
   "cell_type": "code",
   "source": "dataset[\"train\"] = dataset[\"train\"].filter(lambda row : is_valid_image(row))",
   "id": "6b2a069ca44a2ee2",
   "outputs": [],
   "execution_count": null
  },
  {
   "metadata": {},
   "cell_type": "code",
   "source": "train_test_split = dataset[\"train\"].train_test_split(test_size=0.1)",
   "id": "260ae9f28cf7177f",
   "outputs": [],
   "execution_count": null
  },
  {
   "metadata": {},
   "cell_type": "code",
   "source": "train_test_split",
   "id": "abc4545bbbf71cdf",
   "outputs": [],
   "execution_count": null
  },
  {
   "metadata": {},
   "cell_type": "code",
   "source": "train_test_split[\"train\"][0]",
   "id": "5e4eab4af14c7d61",
   "outputs": [],
   "execution_count": null
  },
  {
   "metadata": {},
   "cell_type": "code",
   "source": [
    "labels = train_test_split[\"train\"].features[\"label\"].names\n",
    "label2id, id2label = dict(), dict()\n",
    "for i, label in enumerate(labels):\n",
    "    label2id[label] = str(i)\n",
    "    id2label[str(i)] = label"
   ],
   "id": "7d1e3cc1547e32f0",
   "outputs": [],
   "execution_count": null
  },
  {
   "metadata": {},
   "cell_type": "code",
   "source": "id2label[str(2)]",
   "id": "e16c83c8d55c666f",
   "outputs": [],
   "execution_count": null
  },
  {
   "metadata": {},
   "cell_type": "code",
   "source": [
    "from transformers import AutoImageProcessor\n",
    "\n",
    "image_processor = AutoImageProcessor.from_pretrained(CHECKPOINT, use_fast=True)"
   ],
   "id": "20d7129c6eafa141",
   "outputs": [],
   "execution_count": null
  },
  {
   "metadata": {},
   "cell_type": "code",
   "source": [
    "from torchvision.transforms import RandomResizedCrop, Compose, Normalize, ToTensor\n",
    "normalize = Normalize(mean=image_processor.image_mean, std=image_processor.image_std)\n",
    "size = (\n",
    "    image_processor.size[\"shortest_edge\"]\n",
    "    if \"shortest_edge\" in image_processor.size\n",
    "    else (image_processor.size[\"height\"], image_processor.size[\"width\"])\n",
    ")\n",
    "_transforms = Compose([RandomResizedCrop(size), ToTensor(), normalize])"
   ],
   "id": "d51a9082819e64d2",
   "outputs": [],
   "execution_count": null
  },
  {
   "metadata": {},
   "cell_type": "code",
   "source": [
    "def transforms(examples):\n",
    "    examples[\"pixel_values\"] = [_transforms(img.convert(\"RGB\")) for img in examples[\"image\"]]\n",
    "    del examples[\"image\"]\n",
    "    return examples"
   ],
   "id": "bbad8c6bf87f2878",
   "outputs": [],
   "execution_count": null
  },
  {
   "metadata": {},
   "cell_type": "code",
   "source": "train_test_split = train_test_split.with_transform(transforms)",
   "id": "e140bbcf1c827b76",
   "outputs": [],
   "execution_count": null
  },
  {
   "metadata": {},
   "cell_type": "code",
   "source": [
    "from transformers import DefaultDataCollator\n",
    "\n",
    "data_collator = DefaultDataCollator()"
   ],
   "id": "a1522be5a3189766",
   "outputs": [],
   "execution_count": null
  },
  {
   "metadata": {},
   "cell_type": "code",
   "source": [
    "import evaluate\n",
    "accuracy = evaluate.load(\"accuracy\")"
   ],
   "id": "20fa2d45f6b494ea",
   "outputs": [],
   "execution_count": null
  },
  {
   "metadata": {},
   "cell_type": "code",
   "source": [
    "import numpy as np\n",
    "\n",
    "def compute_metrics(eval_pred):\n",
    "    predictions, labels = eval_pred\n",
    "    predictions = np.argmax(predictions, axis=1)\n",
    "    return accuracy.compute(predictions=predictions, references=labels)"
   ],
   "id": "c7bd53e26ceb38bf",
   "outputs": [],
   "execution_count": null
  },
  {
   "metadata": {},
   "cell_type": "code",
   "source": [
    "from transformers import AutoModelForImageClassification, TrainingArguments, Trainer\n",
    "\n",
    "model = AutoModelForImageClassification.from_pretrained(\n",
    "    CHECKPOINT,\n",
    "    num_labels=len(labels),\n",
    "    id2label=id2label,\n",
    "    label2id=label2id,\n",
    ")"
   ],
   "id": "9a29866ab818e36f",
   "outputs": [],
   "execution_count": null
  },
  {
   "metadata": {},
   "cell_type": "code",
   "source": [
    "training_args = TrainingArguments(\n",
    "    output_dir=OUTPUT_MODEL_NAME,\n",
    "    remove_unused_columns=False,\n",
    "    eval_strategy=\"epoch\",\n",
    "    save_strategy=\"epoch\",\n",
    "    learning_rate=5e-5,\n",
    "    per_device_train_batch_size=16,\n",
    "    gradient_accumulation_steps=4,\n",
    "    per_device_eval_batch_size=16,\n",
    "    num_train_epochs=10,\n",
    "    warmup_ratio=0.1,\n",
    "    logging_steps=10,\n",
    "    load_best_model_at_end=True,\n",
    "    metric_for_best_model=\"accuracy\",\n",
    "    push_to_hub=True,\n",
    ")"
   ],
   "id": "9ab43c67d4c61603",
   "outputs": [],
   "execution_count": null
  },
  {
   "metadata": {},
   "cell_type": "code",
   "source": [
    "trainer = Trainer(\n",
    "    model=model,\n",
    "    args=training_args,\n",
    "    data_collator=data_collator,\n",
    "    train_dataset=train_test_split[\"train\"],\n",
    "    eval_dataset=train_test_split[\"test\"],\n",
    "    processing_class=image_processor,\n",
    "    compute_metrics=compute_metrics,\n",
    ")"
   ],
   "id": "2472047c87f978dd",
   "outputs": [],
   "execution_count": null
  },
  {
   "metadata": {},
   "cell_type": "code",
   "source": "trainer.train()",
   "id": "3e63dd7f9ace6dce",
   "outputs": [],
   "execution_count": null
  },
  {
   "metadata": {},
   "cell_type": "markdown",
   "source": "# Test on my own image",
   "id": "9e8f3e37b8c04914"
  },
  {
   "metadata": {},
   "cell_type": "code",
   "source": "OUTPUT_MODEL_NAME",
   "id": "e638eecc2bcaef12",
   "outputs": [],
   "execution_count": null
  },
  {
   "metadata": {},
   "cell_type": "code",
   "source": [
    "from transformers import pipeline\n",
    "\n",
    "classifier = pipeline(\"image-classification\", model=OUTPUT_MODEL_NAME)"
   ],
   "id": "6d0d7b95a60de9df",
   "outputs": [],
   "execution_count": null
  },
  {
   "metadata": {},
   "cell_type": "code",
   "source": [
    "from PIL import Image\n",
    "import requests\n",
    "from io import BytesIO"
   ],
   "id": "7f65b074b2cef21d",
   "outputs": [],
   "execution_count": null
  },
  {
   "metadata": {},
   "cell_type": "code",
   "source": [
    "image_url = \"https://kainoteka-public.s3.eu-central-1.amazonaws.com/products/b43526e7-0ad8-4b2b-a643-90f9216d7986/89ab8846-4eb6-434f-a18b-a3e11a69b4fb-md.webp\"\n",
    "\n",
    "response = requests.get(image_url)\n",
    "response.raise_for_status()  # Ensure the request was successful\n",
    "\n",
    "# Open the image with PIL\n",
    "image = Image.open(BytesIO(response.content))\n"
   ],
   "id": "325e8686af049433",
   "outputs": [],
   "execution_count": null
  },
  {
   "metadata": {},
   "cell_type": "code",
   "source": "classifier(image)",
   "id": "d84625520b3d0e99",
   "outputs": [],
   "execution_count": null
  }
 ],
 "metadata": {
  "kernelspec": {
   "display_name": "Python 3",
   "language": "python",
   "name": "python3"
  },
  "language_info": {
   "codemirror_mode": {
    "name": "ipython",
    "version": 2
   },
   "file_extension": ".py",
   "mimetype": "text/x-python",
   "name": "python",
   "nbconvert_exporter": "python",
   "pygments_lexer": "ipython2",
   "version": "2.7.6"
  }
 },
 "nbformat": 4,
 "nbformat_minor": 5
}
