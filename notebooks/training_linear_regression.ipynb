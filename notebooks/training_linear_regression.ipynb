{
 "cells": [
  {
   "metadata": {},
   "cell_type": "markdown",
   "source": "# Read dataset",
   "id": "6a7eef89ce0d228a"
  },
  {
   "cell_type": "code",
   "id": "initial_id",
   "metadata": {
    "collapsed": true
   },
   "source": [
    "import os\n",
    "\n",
    "import numpy as np\n",
    "import pandas as pd\n",
    "import re"
   ],
   "outputs": [],
   "execution_count": null
  },
  {
   "metadata": {},
   "cell_type": "code",
   "source": [
    "data_folder = \"../data\"\n",
    "if not os.path.exists(data_folder):\n",
    "    os.makedirs(data_folder)\n",
    "\n",
    "path = os.path.join(data_folder, \"all_data.parquet\")"
   ],
   "id": "8ce89236dbd16d55",
   "outputs": [],
   "execution_count": null
  },
  {
   "metadata": {},
   "cell_type": "code",
   "source": [
    "read_data = pd.read_parquet(path)\n",
    "read_data['category'] = read_data['category_id'].astype(str) + '_' + read_data['category_name']"
   ],
   "id": "b450b56eeae28ef2",
   "outputs": [],
   "execution_count": null
  },
  {
   "metadata": {},
   "cell_type": "code",
   "source": "read_data",
   "id": "d7c47c898f205ce8",
   "outputs": [],
   "execution_count": null
  },
  {
   "metadata": {},
   "cell_type": "markdown",
   "source": "# Label encoder",
   "id": "48c82af6356c5a8e"
  },
  {
   "metadata": {},
   "cell_type": "code",
   "source": [
    "from sklearn.preprocessing import LabelEncoder\n",
    "label_encoder = LabelEncoder()"
   ],
   "id": "e65256802d90922a",
   "outputs": [],
   "execution_count": null
  },
  {
   "metadata": {},
   "cell_type": "code",
   "source": "label_encoder.fit(read_data['category'])",
   "id": "e7c347a10e9de8c9",
   "outputs": [],
   "execution_count": null
  },
  {
   "metadata": {},
   "cell_type": "code",
   "source": "label_encoder.classes_",
   "id": "3e32913d69f8acf4",
   "outputs": [],
   "execution_count": null
  },
  {
   "metadata": {},
   "cell_type": "code",
   "source": "read_data['target'] = label_encoder.transform(read_data['category'])",
   "id": "24b4f80b38da43ee",
   "outputs": [],
   "execution_count": null
  },
  {
   "metadata": {},
   "cell_type": "code",
   "source": "label_encoder.transform(['99_UPS - Nepertraukiamo maitinimo šaltiniai'])",
   "id": "3935c13d5ea3a5b5",
   "outputs": [],
   "execution_count": null
  },
  {
   "metadata": {},
   "cell_type": "markdown",
   "source": "# Split dataset",
   "id": "4317c7053c596efd"
  },
  {
   "metadata": {},
   "cell_type": "code",
   "source": "from sklearn.model_selection import train_test_split",
   "id": "54899d75580a630d",
   "outputs": [],
   "execution_count": null
  },
  {
   "metadata": {},
   "cell_type": "code",
   "source": "train_data, test_data = train_test_split(read_data, test_size=0.15, random_state=42)",
   "id": "40f8456f36dd8bf7",
   "outputs": [],
   "execution_count": null
  },
  {
   "metadata": {},
   "cell_type": "code",
   "source": "train_data",
   "id": "3dba5f7160e1d3d6",
   "outputs": [],
   "execution_count": null
  },
  {
   "metadata": {},
   "cell_type": "code",
   "source": "test_data",
   "id": "6a8552b855453189",
   "outputs": [],
   "execution_count": null
  },
  {
   "metadata": {},
   "cell_type": "markdown",
   "source": "# Text cleaner",
   "id": "dbef83e7c3d8215c"
  },
  {
   "metadata": {},
   "cell_type": "code",
   "source": [
    "colors = [\n",
    "    'blue', 'melynas', 'melyna', 'melynos',\n",
    "    'green', 'zalias', 'zalia','zalios',\n",
    "    'orange', 'oranzinis', 'oranzine', 'oranzines',\n",
    "    'white', 'baltas', 'balta',  'baltos',\n",
    "    'black', 'juodas', 'juoda',  'juodos',\n",
    "    'yellow','geltonas', 'geltona',  'geltonos',\n",
    "    'red', 'raudonas', 'raudona',  'raudonos',\n",
    "    'purple', 'violetinis', 'violetine',  'violetines',\n",
    "    'pink', 'rozines', 'rozine',  'rozinis',\n",
    "    'violet',\n",
    "    'gray',  'pilkas', 'pilkos', 'pilkai', 'pilka',\n",
    "    'sidabrinis', 'sidabrines', 'sidabro',\n",
    "    'starlight',\n",
    "    'twilight',\n",
    "    'light',\n",
    "    'cool',\n",
    "    'grey',\n",
    "    'burgundija',\n",
    "    'titanas', 'titano',\n",
    "    'brown', 'rudas', 'rudos', 'ruda',\n",
    "    'navy',\n",
    "    'clush',\n",
    "    'rush',\n",
    "    'amber', 'gintarinis', 'gintarinęs',\n",
    "    'cobalt',\n",
    "    'marble',\n",
    "    'mystic',\n",
    "    'phantom',\n",
    "    'auksas', 'auksines', 'auksine', 'aukso', 'auksinis',\n",
    "    'rausvos', 'rausvai', 'rausvo',\n",
    "    'kremines', 'kreminis', 'kremine',\n",
    "    'cream',\n",
    "    'mint',\n",
    "    'lime',\n",
    "    'grafit',\n",
    "    'beige',\n",
    "    'grafitas',\n",
    "    'tamsiai', 'tamsus',\n",
    "    'sviesiai', 'sviesus',\n",
    "    'bronzinis', 'bronzine', 'bronzos',\n",
    "    'sidabrinis', 'sidabrine', 'sidabro',\n",
    "    'icy blue',\n",
    "    'rusvos', 'rusvai', 'rusva',\n",
    "    'orchid',\n",
    "    'lavender',\n",
    "    'graphite',\n",
    "    'midnight',\n",
    "    'gold',\n",
    "    'silver',\n",
    "    'coral',\n",
    "    'rozinis',\n",
    "    'zalias',\n",
    "    'vidurnaktis',\n",
    "]"
   ],
   "id": "7c447cd522fca6f7",
   "outputs": [],
   "execution_count": null
  },
  {
   "metadata": {},
   "cell_type": "code",
   "source": [
    "def additional_cleaning(text):\n",
    "    # Replace inch symbol\n",
    "    text = re.sub(r'\\d+\"', 'ISTRIZAINE', text)\n",
    "\n",
    "    pattern = re.compile(\"|\".join(map(re.escape, colors)))\n",
    "    text = pattern.sub('SPALVA', text)\n",
    "\n",
    "    return text"
   ],
   "id": "7dcfd60257ddba6f",
   "outputs": [],
   "execution_count": null
  },
  {
   "metadata": {},
   "cell_type": "code",
   "source": [
    "PUNCTUATION = \"!#$%&'()*+,.:;<=>?@[\\]^_`{|}~/\"\n",
    "\n",
    "def clean_text(text):\n",
    "    text = text.lower()\n",
    "\n",
    "    replacements = {\n",
    "        'ą': 'a', 'č': 'c', 'ę': 'e', 'ė': 'e', 'į': 'i', 'š': 's', 'ų': 'u', 'ū': 'u', 'ž': 'z',\n",
    "    }\n",
    "    for lt_char, replacement in replacements.items():\n",
    "        text = text.replace(lt_char, replacement)\n",
    "\n",
    "    text = text.replace('\\n', ' ')\n",
    "    text = text.replace('\\r', ' ')\n",
    "    text = text.replace('\\t', ' ')\n",
    "\n",
    "    # Dropping quatattions\n",
    "    # text = text.replace('\"', '')\n",
    "    # text = text.replace(\"'\", '')\n",
    "    # text = text.replace(\"`\", '')\n",
    "    text = text.replace(\"-\", '')\n",
    "    text = text.replace(\"™\", '')\n",
    "    text = text.replace(\",\", '')\n",
    "    text = text.replace(\"„\", '')\n",
    "    text = text.replace(\"“\", '')\n",
    "\n",
    "    # remove some phrases\n",
    "    text = re.sub(r'atgauk \\d+%', '', text)\n",
    "    text = re.sub(r'preke po grazinimo', '', text)\n",
    "\n",
    "    # addition cleaning\n",
    "    text = additional_cleaning(text)\n",
    "\n",
    "\n",
    "\n",
    "    text = re.sub(f'[{PUNCTUATION}]', '', text)\n",
    "\n",
    "\n",
    "    # Cleaning multiple spaces\n",
    "    text = ' '.join(text.split())\n",
    "\n",
    "    return text"
   ],
   "id": "15d3dae809abcad1",
   "outputs": [],
   "execution_count": null
  },
  {
   "metadata": {},
   "cell_type": "code",
   "source": [
    "str = 'white F2.8 27.2\", 4 ms NeoGlass™'\n",
    "\n",
    "str = clean_text(str)\n",
    "str"
   ],
   "id": "774abca24fe79412",
   "outputs": [],
   "execution_count": null
  },
  {
   "metadata": {},
   "cell_type": "markdown",
   "source": "# Vektorizer",
   "id": "d5b864029e7643e7"
  },
  {
   "metadata": {},
   "cell_type": "code",
   "source": "from sklearn.feature_extraction.text import TfidfVectorizer",
   "id": "6c7525fe623705c9",
   "outputs": [],
   "execution_count": null
  },
  {
   "metadata": {},
   "cell_type": "code",
   "source": [
    "stop_words = [\n",
    "    'ir',\n",
    "    'nuolaida',\n",
    "    'ispardavimas',\n",
    "    'preke po grazinimo',\n",
    "    'kaina',\n",
    "    'akcija',\n",
    "    'top',\n",
    "    'preke',\n",
    "    'grazinimo',\n",
    "    'kita',\n",
    "    'ekspozicine',\n",
    "    'uzsakomoji'\n",
    "    'ecost',\n",
    "    'be',\n",
    "    'without'\n",
    "    'preke',\n",
    "    'su'\n",
    "    'spalvos',#? nesu tikras\n",
    "    'spalva',#? nesu tikras\n",
    "    'pazeista',\n",
    "    'pakuote',\n",
    "]"
   ],
   "id": "c65c8f3d569f31f",
   "outputs": [],
   "execution_count": null
  },
  {
   "metadata": {},
   "cell_type": "code",
   "source": [
    "# vectorizer = TfidfVectorizer(sublinear_tf=True, max_df=0.3, min_df=3, stop_words=stop_words, ngram_range=(1, 3), lowercase=True, strip_accents='ascii')\n",
    "vectorizer = TfidfVectorizer(stop_words=stop_words, max_df=0.2, min_df=3,  ngram_range=(1, 3), preprocessor=clean_text, analyzer='word', dtype=np.float32, max_features=300000)"
   ],
   "id": "c065ba53d5ddcc5f",
   "outputs": [],
   "execution_count": null
  },
  {
   "metadata": {},
   "cell_type": "code",
   "source": "vectorizer.fit(train_data['name'])",
   "id": "7e099b5fca312cd0",
   "outputs": [],
   "execution_count": null
  },
  {
   "metadata": {},
   "cell_type": "code",
   "source": "len(vectorizer.vocabulary_)",
   "id": "ea6e766745610b3b",
   "outputs": [],
   "execution_count": null
  },
  {
   "metadata": {},
   "cell_type": "code",
   "source": "vectorizer.get_feature_names_out()[:10]",
   "id": "e3d97d12ef418516",
   "outputs": [],
   "execution_count": null
  },
  {
   "metadata": {},
   "cell_type": "code",
   "source": "vectorizer.transform(['magnetinė šaškių ir šachmatų lenta qx#'])",
   "id": "5fe8d8177608bace",
   "outputs": [],
   "execution_count": null
  },
  {
   "metadata": {},
   "cell_type": "code",
   "source": "vectorizer.vocabulary_.get('v')",
   "id": "6ff87d01c3c60ef5",
   "outputs": [],
   "execution_count": null
  },
  {
   "metadata": {},
   "cell_type": "markdown",
   "source": "# Price scaler",
   "id": "4cc979e3840d15da"
  },
  {
   "metadata": {},
   "cell_type": "code",
   "source": "from sklearn.preprocessing import StandardScaler, MinMaxScaler",
   "id": "a9bac1b203249812",
   "outputs": [],
   "execution_count": null
  },
  {
   "metadata": {},
   "cell_type": "code",
   "source": "scaler = StandardScaler()",
   "id": "efdf035a9aa13e46",
   "outputs": [],
   "execution_count": null
  },
  {
   "metadata": {},
   "cell_type": "code",
   "source": "scaler.fit(train_data[['price']])",
   "id": "3903ad42fe37496b",
   "outputs": [],
   "execution_count": null
  },
  {
   "metadata": {},
   "cell_type": "markdown",
   "source": "# Prepare training adn testing data",
   "id": "e3f38c30aeca84d"
  },
  {
   "metadata": {},
   "cell_type": "code",
   "source": "from scipy.sparse import hstack",
   "id": "241fbccf46a536bb",
   "outputs": [],
   "execution_count": null
  },
  {
   "metadata": {},
   "cell_type": "code",
   "source": [
    "vectorized_train_text = vectorizer.transform(train_data['name'])\n",
    "scaled_train_price = scaler.transform(train_data[['price']])"
   ],
   "id": "e39649157ef8f70b",
   "outputs": [],
   "execution_count": null
  },
  {
   "metadata": {},
   "cell_type": "code",
   "source": "X_train = hstack([vectorized_train_text])",
   "id": "7dcea6a55d03504a",
   "outputs": [],
   "execution_count": null
  },
  {
   "metadata": {},
   "cell_type": "code",
   "source": [
    "vectorized_test_text = vectorizer.transform(test_data['name'])\n",
    "scaled_test_price = scaler.transform(test_data[['price']])"
   ],
   "id": "cdf513713a17359a",
   "outputs": [],
   "execution_count": null
  },
  {
   "metadata": {},
   "cell_type": "code",
   "source": "X_test = hstack([vectorized_test_text])",
   "id": "802ab06d9cf182ba",
   "outputs": [],
   "execution_count": null
  },
  {
   "metadata": {},
   "cell_type": "code",
   "source": [
    "y_train = label_encoder.transform(train_data['category'])\n",
    "y_test = label_encoder.transform(test_data['category'])"
   ],
   "id": "cb637f54f4511986",
   "outputs": [],
   "execution_count": null
  },
  {
   "metadata": {},
   "cell_type": "code",
   "source": "",
   "id": "77f5e32cb1850b72",
   "outputs": [],
   "execution_count": null
  },
  {
   "metadata": {},
   "cell_type": "code",
   "source": "from sklearn.compose import ColumnTransformer",
   "id": "e2b76a9b9cf5a8ee",
   "outputs": [],
   "execution_count": null
  },
  {
   "metadata": {},
   "cell_type": "code",
   "source": [
    "ct = ColumnTransformer(transformers=[\n",
    "    (\"name_preprocess\", TfidfVectorizer(stop_words=stop_words, max_df=0.2, min_df=3,  ngram_range=(1, 3), preprocessor=clean_text, analyzer='word', max_features=300000), \"name\"),\n",
    "    (\"price_preprocess\", MinMaxScaler(), [\"price\"])\n",
    "])"
   ],
   "id": "7877bbf5a64ce4da",
   "outputs": [],
   "execution_count": null
  },
  {
   "metadata": {},
   "cell_type": "code",
   "source": "X_train = ct.fit_transform(train_data)",
   "id": "7592e53330a1225d",
   "outputs": [],
   "execution_count": null
  },
  {
   "metadata": {},
   "cell_type": "code",
   "source": "X_test = ct.transform(test_data)",
   "id": "7ef9e7990cb62fa2",
   "outputs": [],
   "execution_count": null
  },
  {
   "metadata": {},
   "cell_type": "markdown",
   "source": "# Hide warnings",
   "id": "24845261d99ab3c6"
  },
  {
   "metadata": {},
   "cell_type": "code",
   "source": [
    "import warnings\n",
    "from sklearn.exceptions import ConvergenceWarning"
   ],
   "id": "a95cd48cb51dd4d9",
   "outputs": [],
   "execution_count": null
  },
  {
   "metadata": {},
   "cell_type": "code",
   "source": "warnings.filterwarnings(\"ignore\", category=ConvergenceWarning)",
   "id": "27d3b4cc864633cc",
   "outputs": [],
   "execution_count": null
  },
  {
   "metadata": {},
   "cell_type": "markdown",
   "source": "# Train",
   "id": "d0af9ed2f2ab5f3a"
  },
  {
   "metadata": {},
   "cell_type": "code",
   "source": [
    "import matplotlib.pyplot as plt\n",
    "from sklearn.linear_model import LogisticRegression, RidgeClassifier\n",
    "from sklearn.metrics import log_loss\n",
    "from sklearn.metrics import f1_score"
   ],
   "id": "27e9a67cf0942819",
   "outputs": [],
   "execution_count": null
  },
  {
   "metadata": {},
   "cell_type": "code",
   "source": [
    "max_iter = 5\n",
    "log_losses = []\n",
    "scores = []\n",
    "validation_scores = []"
   ],
   "id": "b0fdc06ffac3d1ac",
   "outputs": [],
   "execution_count": null
  },
  {
   "metadata": {},
   "cell_type": "code",
   "source": "lr = LogisticRegression(max_iter=1, solver='saga', warm_start=True)",
   "id": "dd96c9191fb92e7d",
   "outputs": [],
   "execution_count": null
  },
  {
   "metadata": {},
   "cell_type": "code",
   "source": [
    "for i in range(max_iter):\n",
    "    lr.fit(X_train, y_train)\n",
    "\n",
    "    # Calculate log loss for progress monitoring\n",
    "    y_prob = lr.predict_proba(X_train)\n",
    "    loss = log_loss(y_train, y_prob)\n",
    "    log_losses.append(loss)\n",
    "\n",
    "    # Track training accuracy\n",
    "    acc = lr.score(X_train, y_train)\n",
    "    scores.append(acc)\n",
    "\n",
    "    # Track validation accuracy\n",
    "    validation_acc = lr.score(X_test, y_test)\n",
    "    validation_scores.append(validation_acc)\n",
    "\n",
    "    # Print progress for transparency\n",
    "    print(f\"Iteration {i + 1}/{max_iter}: Log Loss = {loss:.4f}, Accuracy = {acc:.4f}, Validation accuracy = {validation_acc:.4f}\")"
   ],
   "id": "a6dcbbee286e2b9e",
   "outputs": [],
   "execution_count": null
  },
  {
   "metadata": {},
   "cell_type": "markdown",
   "source": "# My own test",
   "id": "928bbdbe1298e18e"
  },
  {
   "metadata": {},
   "cell_type": "code",
   "source": [
    "my_test_data = pd.DataFrame({\n",
    "    \"name\": ['Samsung Galaxy S25 Rugged Cover Black'],\n",
    "    \"price\": [3189]  # Price input\n",
    "})\n",
    "\n",
    "X_custom_test = ct.transform(my_test_data)\n",
    "predicted_classes = lr.predict(X_custom_test)\n",
    "class_probabilities = lr.predict_proba(X_custom_test)\n",
    "max_probability = class_probabilities.max()\n",
    "predicted_class_name = label_encoder.inverse_transform(predicted_classes)\n",
    "\n",
    "print(\"Predicted class (name):\", predicted_class_name[0])\n",
    "print(\"Maximum probability (percent):\", f\"{max_probability * 100:.2f}%\")"
   ],
   "id": "2bafec8f0fa7a7f5",
   "outputs": [],
   "execution_count": null
  },
  {
   "metadata": {},
   "cell_type": "markdown",
   "source": "# Another train",
   "id": "a68fe48ec103aad2"
  },
  {
   "metadata": {},
   "cell_type": "code",
   "source": "from sklearn.linear_model import RidgeClassifier",
   "id": "ef5455ff9a4a20c2",
   "outputs": [],
   "execution_count": null
  },
  {
   "metadata": {},
   "cell_type": "code",
   "source": "clf = RidgeClassifier(max_iter=20, tol=1e-2, solver=\"sparse_cg\")",
   "id": "5d57ddd84a132920",
   "outputs": [],
   "execution_count": null
  },
  {
   "metadata": {},
   "cell_type": "code",
   "source": "clf.fit(X_train, y_train)",
   "id": "6ca3f68f62f59e36",
   "outputs": [],
   "execution_count": null
  },
  {
   "metadata": {},
   "cell_type": "code",
   "source": [
    "test_accuracy = clf.score(X_test, y_test)\n",
    "print(f\"Test Accuracy: {test_accuracy:.4f}\")"
   ],
   "id": "9cc50409c649042e",
   "outputs": [],
   "execution_count": null
  },
  {
   "metadata": {},
   "cell_type": "code",
   "source": [
    "# Step 1: Custom data preparation\n",
    "my_test_data = pd.DataFrame({\n",
    "    \"name\": [\"Hewlett Packard (HP) also HP W9172MC Geltona Managed LJ Toneris\"],  # Text input\n",
    "    \"price\": [229900009]  # Price input\n",
    "})\n",
    "\n",
    "# Step 2: Transform using the trained ColumnTransformer\n",
    "X_custom_test = ct.transform(my_test_data)\n",
    "\n",
    "# Step 3: Predict using the RidgeClassifier\n",
    "predicted_classes = clf.predict(X_custom_test)\n",
    "\n",
    "# Step 4: Decode the predicted class labels\n",
    "predicted_class_names = label_encoder.inverse_transform(predicted_classes)\n",
    "\n",
    "# Output predictions\n",
    "print(\"Predicted class (name):\", predicted_class_names)\n"
   ],
   "id": "cf8df5d7735efb9b",
   "outputs": [],
   "execution_count": null
  },
  {
   "metadata": {},
   "cell_type": "code",
   "source": "",
   "id": "e16815eafa1ce9e4",
   "outputs": [],
   "execution_count": null
  },
  {
   "metadata": {},
   "cell_type": "markdown",
   "source": "# Tuning hyper-parameters",
   "id": "7a15f0535b8bb9b9"
  },
  {
   "metadata": {},
   "cell_type": "code",
   "source": [
    "from sklearn.model_selection import GridSearchCV\n",
    "\n",
    "lr = LogisticRegression(max_iter=1, solver='saga')\n",
    "param_grid = [\n",
    "    {'C': [1, 10, 100], 'penalty': ['l1', 'l2', 'elasticnet', 'none']},\n",
    "]\n",
    "\n",
    "clf = GridSearchCV(lr, param_grid)\n",
    "clf.fit(X_train, y_train)\n"
   ],
   "id": "1b102472c6cc27f6",
   "outputs": [],
   "execution_count": null
  },
  {
   "metadata": {},
   "cell_type": "code",
   "source": "",
   "id": "2efb182098f72931",
   "outputs": [],
   "execution_count": null
  },
  {
   "metadata": {},
   "cell_type": "markdown",
   "source": "# My own test",
   "id": "9f801287951e3202"
  },
  {
   "metadata": {},
   "cell_type": "code",
   "source": [
    "texts = [\n",
    "    'Kabelis TV antenai RF, 2.5m, kištukas - lizdas, baltas EMOS'\n",
    "]\n",
    "\n",
    "input = vectorizer.transform(texts)\n",
    "\n",
    "predicted_class = lr.predict(input)\n",
    "class_probabilities = lr.predict_proba(input)\n",
    "max_probability = class_probabilities.max()\n",
    "\n",
    "predicted_class_name = label_encoder.inverse_transform(predicted_class)\n",
    "\n",
    "print(\"Predicted class (name):\", predicted_class_name[0])\n",
    "print(\"Maximum probability (percent):\", f\"{max_probability * 100:.2f}%\")"
   ],
   "id": "9fe7f6b596e3ef76",
   "outputs": [],
   "execution_count": null
  },
  {
   "metadata": {},
   "cell_type": "markdown",
   "source": "# Plot training result",
   "id": "4ad2e1ca047010aa"
  },
  {
   "metadata": {},
   "cell_type": "code",
   "source": [
    "plt.plot(log_losses)\n",
    "plt.title('Log Loss')\n",
    "plt.show()\n",
    "\n",
    "plt.plot(scores)\n",
    "plt.title('Accuracy')\n",
    "plt.show()\n",
    "\n",
    "plt.plot(validation_scores)\n",
    "plt.title('Validation accuracy')\n",
    "plt.show()"
   ],
   "id": "46a2ed54b1106d0a",
   "outputs": [],
   "execution_count": null
  },
  {
   "metadata": {},
   "cell_type": "markdown",
   "source": "# Classification report",
   "id": "f88a05222cf8afca"
  },
  {
   "metadata": {},
   "cell_type": "code",
   "source": "from sklearn.metrics import classification_report",
   "id": "71120210546c32c1",
   "outputs": [],
   "execution_count": null
  },
  {
   "metadata": {},
   "cell_type": "code",
   "source": "pred = lr.predict(X_test)",
   "id": "536f3f1c0f12d400",
   "outputs": [],
   "execution_count": null
  },
  {
   "metadata": {},
   "cell_type": "code",
   "source": "classes_present = np.unique(np.concatenate([y_test, pred]))",
   "id": "ec78a7680f2e63c9",
   "outputs": [],
   "execution_count": null
  },
  {
   "metadata": {},
   "cell_type": "code",
   "source": "reduced_target_names = [label_encoder.classes_[i] for i in classes_present]",
   "id": "281388aa05d97544",
   "outputs": [],
   "execution_count": null
  },
  {
   "metadata": {},
   "cell_type": "code",
   "source": "classification_report_report = classification_report(y_test, pred, target_names=reduced_target_names, zero_division=0)",
   "id": "135cf724ecdf6fdf",
   "outputs": [],
   "execution_count": null
  },
  {
   "metadata": {},
   "cell_type": "code",
   "source": "print(classification_report_report)",
   "id": "2f51685c981e6597",
   "outputs": [],
   "execution_count": null
  },
  {
   "metadata": {},
   "cell_type": "code",
   "source": [
    "f1 = f1_score(y_test, pred, average='weighted')  # Options: 'micro', 'macro', 'weighted', 'binary'\n",
    "\n",
    "print(f\"F1 Score (weighted): {f1:.4f}\")"
   ],
   "id": "8dbacfc7eaffc332",
   "outputs": [],
   "execution_count": null
  },
  {
   "metadata": {},
   "cell_type": "markdown",
   "source": "# Confusion matrice",
   "id": "9949aa92e4e4fb64"
  },
  {
   "metadata": {},
   "cell_type": "code",
   "source": "from sklearn.metrics import confusion_matrix, ConfusionMatrixDisplay",
   "id": "9aa22571323b59e7",
   "outputs": [],
   "execution_count": null
  },
  {
   "metadata": {},
   "cell_type": "code",
   "source": "confusion_matrix_report = confusion_matrix(y_test, pred)",
   "id": "6136db0842b7a6be",
   "outputs": [],
   "execution_count": null
  },
  {
   "metadata": {},
   "cell_type": "code",
   "source": [
    "class1_name = '99_UPS - Nepertraukiamo maitinimo šaltiniai'\n",
    "class2_name = '995_Kia deflektoriai'\n",
    "\n",
    "# Transform the class names into their respective label-encoded indices\n",
    "class1_index = label_encoder.transform([class1_name])[0]\n",
    "class2_index = label_encoder.transform([class2_name])[0]\n",
    "\n",
    "# Filter y_test and predictions for only these two classes\n",
    "filter_mask = (y_test == class1_index) | (y_test == class2_index)\n",
    "filtered_y_test = y_test[filter_mask]\n",
    "filtered_pred = pred[filter_mask]\n",
    "\n",
    "# Generate a confusion matrix for the selected classes\n",
    "labels = [class1_index, class2_index]\n",
    "cm = confusion_matrix(filtered_y_test, filtered_pred, labels=labels)\n",
    "\n",
    "# Display the confusion matrix\n",
    "display_labels = [class1_name, class2_name]\n",
    "disp = ConfusionMatrixDisplay(confusion_matrix=cm, display_labels=display_labels)\n",
    "disp.plot()"
   ],
   "id": "b71a09938472aaf8",
   "outputs": [],
   "execution_count": null
  },
  {
   "metadata": {},
   "cell_type": "markdown",
   "source": "# Show 20 best feature for particular class",
   "id": "2408e9856d3a2041"
  },
  {
   "metadata": {},
   "cell_type": "code",
   "source": [
    "def show_coefficients_for(class_name):\n",
    "    print(f\"Coefficients for class '{class_name}':\")\n",
    "    print('----------------------------')\n",
    "    print('')\n",
    "    class_index = label_encoder.transform([class_name])[0]\n",
    "    class_coefficients = lr.coef_[class_index]\n",
    "    feature_coefficients = dict(zip(vectorizer.get_feature_names_out(), class_coefficients))\n",
    "    sorted_features = sorted(feature_coefficients.items(), key=lambda x: x[1], reverse=True)\n",
    "    for feature, coefficient in sorted_features[:20]:\n",
    "        print(f\"{feature}: {coefficient:.4f}\")\n"
   ],
   "id": "20da27afbf747f00",
   "outputs": [],
   "execution_count": null
  },
  {
   "metadata": {},
   "cell_type": "code",
   "source": "show_coefficients_for('1249_Blenderiai')",
   "id": "eed15dab0126b839",
   "outputs": [],
   "execution_count": null
  }
 ],
 "metadata": {
  "kernelspec": {
   "display_name": "Python 3",
   "language": "python",
   "name": "python3"
  },
  "language_info": {
   "codemirror_mode": {
    "name": "ipython",
    "version": 2
   },
   "file_extension": ".py",
   "mimetype": "text/x-python",
   "name": "python",
   "nbconvert_exporter": "python",
   "pygments_lexer": "ipython2",
   "version": "2.7.6"
  }
 },
 "nbformat": 4,
 "nbformat_minor": 5
}
